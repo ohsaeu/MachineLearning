{
 "cells": [
  {
   "cell_type": "code",
   "execution_count": null,
   "metadata": {
    "collapsed": true
   },
   "outputs": [],
   "source": [
    "'''\n",
    "-- complete set data extraction query\n",
    "select i.id, i.initial_value--, q.select_no\n",
    "from polls_image i, polls_question q\n",
    "where i.question_id = q.id\n",
    "and q.id in (\n",
    "\tselect id \n",
    "\tfrom polls_question \n",
    "\twhere survey_id in (\n",
    "\t\tselect qst.survey_id \n",
    "\t\tfrom polls_image img, polls_question qst\n",
    "\t\twhere img.question_id = qst.id\n",
    "\t\tgroup by survey_id, qst.survey_id\n",
    "\t\thaving count(img.id)=50\n",
    "\t)\n",
    ")\n",
    "and train_yn=0\n",
    "order by id asc\n",
    "'''"
   ]
  },
  {
   "cell_type": "code",
   "execution_count": 54,
   "metadata": {},
   "outputs": [
    {
     "name": "stdout",
     "output_type": "stream",
     "text": [
      "predicted: [-1  1 -1 -1 -1 -1 -1  1  1 -1 -1 -1 -1 -1 -1 -1  1 -1  1 -1]\n",
      "test: [1, -1, 1, -1, -1, 1, 1, -1, 1, -1, -1, -1, -1, -1, -1, 1, -1, 1, -1, -1]\n"
     ]
    },
    {
     "data": {
      "text/plain": [
       "0.5"
      ]
     },
     "execution_count": 54,
     "metadata": {},
     "output_type": "execute_result"
    }
   ],
   "source": [
    "import pandas as pd\n",
    "import numpy as np\n",
    "from sklearn.svm import SVC\n",
    "from sklearn.metrics import accuracy_score\n",
    "\n",
    "def computeDiffPair(x_val, y_val, isTrain):\n",
    "    i = 0\n",
    "    k = 0\n",
    "    x_diff=list()\n",
    "    y_diff=list()\n",
    "    while( i <len(y_val)-1):\n",
    "        if(y_val[i]==2):\n",
    "            y_pref=-1\n",
    "        else:\n",
    "            y_pref = 1\n",
    "        \n",
    "        \n",
    "        x_diff.append(x_val[i]-x_val[i+1])\n",
    "        y_diff.append(y_pref)\n",
    "        if(isTrain):\n",
    "            if(y_diff[-1] != (-1)**k):\n",
    "                y_diff[-1] *= -1\n",
    "                x_diff[-1] *= -1\n",
    "       \n",
    "        i +=2\n",
    "        k+=1\n",
    "    return x_diff, y_diff\n",
    "                      \n",
    "x_train = pd.read_csv('C:/Users/aeroplan/Desktop/res_train_x.txt', header=None, sep='\\t').astype('float64')\n",
    "x_train = x_train.loc[:, 1:].as_matrix()\n",
    "\n",
    "y_train = pd.read_csv('C:/Users/aeroplan/Desktop/res_train_y.txt', header=None).astype('int32')\n",
    "y_train = y_train.loc[:, 1:].as_matrix()\n",
    "\n",
    "x_train, y_train = computeDiffPair(x_train, y_train, True)\n",
    "\n",
    "                      \n",
    "clf = SVC(kernel='rbf', gamma=0.016 ) \n",
    "clf_fit = clf.fit(x_train, y_train)\n",
    "    \n",
    "x_test = pd.read_csv('C:/Users/aeroplan/Desktop/res_test_x.txt', header=None, sep='\\t').astype('float64')\n",
    "x_test = x_test.loc[:, 1:].as_matrix()\n",
    "y_test = pd.read_csv('C:/Users/aeroplan/Desktop/res_test_y.txt', header=None).astype('int32')\n",
    "y_test = y_test.loc[:, 1:].as_matrix()\n",
    "\n",
    "x_test,y_test = computeDiffPair(x_test, y_test, False)\n",
    "y_predict = clf_fit.predict(x_test)\n",
    "print(\"predicted: \"+str(y_predict))\n",
    "print(\"test: \"+str(y_test))\n",
    "accuracy_score(y_test, y_predict)"
   ]
  },
  {
   "cell_type": "code",
   "execution_count": null,
   "metadata": {
    "collapsed": true
   },
   "outputs": [],
   "source": []
  }
 ],
 "metadata": {
  "kernelspec": {
   "display_name": "Python 3",
   "language": "python",
   "name": "python3"
  },
  "language_info": {
   "codemirror_mode": {
    "name": "ipython",
    "version": 3
   },
   "file_extension": ".py",
   "mimetype": "text/x-python",
   "name": "python",
   "nbconvert_exporter": "python",
   "pygments_lexer": "ipython3",
   "version": "3.5.3"
  }
 },
 "nbformat": 4,
 "nbformat_minor": 2
}
