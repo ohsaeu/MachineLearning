{
 "cells": [
  {
   "cell_type": "code",
   "execution_count": null,
   "metadata": {},
   "outputs": [],
   "source": [
    "import numpy as np\n",
    "import pandas as pd\n",
    "from sklearn.decomposition import PCA\n",
    "\n",
    "f_in = 'C://Users//aeroplan//Desktop//svm_sample_z.out'\n",
    "\n",
    "l_x = list()\n",
    "with open(f_in,'r') as file:    \n",
    "    for line in file:\n",
    "        #z = line.split(',')#,2)\n",
    "        z = np.fromstring(line, dtype=float, sep='\\t') \n",
    "        l_x.append(z)\n",
    "        #df =None\n",
    "file.close()\n",
    "\n",
    "l_p = PCA(n_components=2).fit_transform(l_x)\n",
    "l_z = pd.DataFrame(data = l_p)\n",
    "print(l_z)\n"
   ]
  },
  {
   "cell_type": "code",
   "execution_count": 1,
   "metadata": {
    "collapsed": true
   },
   "outputs": [],
   "source": [
    "import matplotlib.pylab as plt\n",
    "\n",
    "def plot_decision_regions(X, y, classifier, test_idx=None, resolution=0.02):\n",
    "\n",
    "    # setup marker generator and color map\n",
    "    markers = ('s', 'x', 'o', '^', 'v')\n",
    "    colors = ('red', 'blue', 'lightgreen', 'gray', 'cyan')\n",
    "    cmap = ListedColormap(colors[:len(np.unique(y))])\n",
    "\n",
    "    # plot the decision surface\n",
    "    x1_min, x1_max = X[:, 0].min() - 1, X[:, 0].max() + 1\n",
    "    x2_min, x2_max = X[:, 1].min() - 1, X[:, 1].max() + 1\n",
    "    xx1, xx2 = np.meshgrid(np.arange(x1_min, x1_max, resolution),\n",
    "                           np.arange(x2_min, x2_max, resolution))\n",
    "    Z = classifier.predict(np.array([xx1.ravel(), xx2.ravel()]).T)\n",
    "    Z = Z.reshape(xx1.shape)\n",
    "    plt.contourf(xx1, xx2, Z, alpha=0.4, cmap=cmap)\n",
    "    plt.xlim(xx1.min(), xx1.max())\n",
    "    plt.ylim(xx2.min(), xx2.max())\n",
    "\n",
    "    for idx, cl in enumerate(np.unique(y)):\n",
    "        plt.scatter(x=X[y == cl, 0], y=X[y == cl, 1],\n",
    "                    alpha=0.8, c=cmap(idx),\n",
    "                    marker=markers[idx], label=cl)\n",
    "\n",
    "    # highlight test samples\n",
    "    if test_idx:\n",
    "        # plot all samples\n",
    "        if not versiontuple(np.__version__) >= versiontuple('1.9.0'):\n",
    "            X_test, y_test = X[list(test_idx), :], y[list(test_idx)]\n",
    "            warnings.warn('Please update to NumPy 1.9.0 or newer')\n",
    "        else:\n",
    "            X_test, y_test = X[test_idx, :], y[test_idx]\n",
    "\n",
    "        plt.scatter(X_test[:, 0],\n",
    "                    X_test[:, 1],\n",
    "                    c='',\n",
    "                    alpha=1.0,\n",
    "                    linewidths=1,\n",
    "                    marker='o',\n",
    "                    s=55, label='test set')"
   ]
  },
  {
   "cell_type": "code",
   "execution_count": 2,
   "metadata": {},
   "outputs": [
    {
     "name": "stdout",
     "output_type": "stream",
     "text": [
      "          x1        x2    y   i\n",
      "0   0.919104  1.538203 -0.5   1\n",
      "1   0.156490 -1.847328  0.5   2\n",
      "2  -0.693857 -0.322506 -0.5   3\n",
      "3  -1.299496  0.428108  0.5   4\n",
      "4   2.127870  0.540847  0.5   5\n",
      "5   0.144152  1.848029 -0.5   6\n",
      "6  -1.156686 -1.373023 -0.5   7\n",
      "7   2.688015 -0.754948  0.5   8\n",
      "8   0.065694  1.649971  0.5   9\n",
      "9  -1.801178  1.506662 -0.5  10\n",
      "10 -2.121640  2.448245  0.5  11\n",
      "11 -0.279713 -1.491037 -0.5  12\n",
      "12  0.620770 -0.865789  0.5  13\n",
      "13 -1.491542  1.129322 -0.5  14\n",
      "14  1.006343  1.008692  0.5  15\n",
      "15  0.560763 -1.620492 -0.5  16\n",
      "16  2.289018  0.009958  0.5  17\n",
      "17 -1.123211 -0.556862 -0.5  18\n",
      "18  1.177395 -1.303708 -0.5  19\n",
      "19 -0.771010 -1.467632  0.5  20\n",
      "20  1.216906  0.718591  0.5  21\n",
      "21  0.896181 -1.894447 -0.5  22\n",
      "22 -1.835823  1.934467 -0.5  23\n",
      "23  1.337425  1.001039  0.5  24\n",
      "24 -1.374733 -1.400488 -0.5  25\n",
      "25 -0.412510 -0.665309  0.5  26\n",
      "26  1.948392  1.534686  0.5  27\n",
      "27  1.200659  0.375742 -0.5  28\n",
      "28  1.450443  0.964013  0.5  29\n",
      "29  3.221783  0.903897 -0.5  30\n",
      "30 -1.408736  0.697612  0.5  31\n",
      "31 -0.917277 -1.070049 -0.5  32\n",
      "32  0.060997 -0.709635 -0.5  33\n",
      "33 -0.758783 -1.201821  0.5  34\n",
      "34 -1.727339  0.659594  0.5  35\n",
      "35 -0.012838 -1.671403 -0.5  36\n",
      "36 -0.214840 -2.153255  0.0  37\n",
      "37  0.523006  1.124955  0.0  38\n",
      "38 -2.278358 -1.268199  0.5  39\n",
      "39 -1.931836  1.615296 -0.5  40\n"
     ]
    },
    {
     "data": {
      "image/png": "[encoded data removed]",
      "text/plain": [
       "<matplotlib.figure.Figure at 0x1073b4630>"
      ]
     },
     "metadata": {},
     "output_type": "display_data"
    },
    {
     "name": "stdout",
     "output_type": "stream",
     "text": [
      "[-0.76261400000000001, 0.60563900000000004, 1.9837180000000001, -3.8447010000000001, 1.8668719999999999, 1.8419270000000001, 2.1123119999999997, -0.44557999999999998, 3.412229, 1.9484050000000002, 0.32072500000000015, -3.1732480000000001, 0.96222299999999994, -0.74773299999999998, -1.7713400000000004, 0.49145899999999998, -0.81977999999999995, 1.7145010000000001, -0.34652200000000022]\n",
      "[-3.3855309999999998, -0.750614, -1.3071820000000001, -0.61807499999999993, 0.14330899999999969, -3.9392820000000004, -1.9951109999999999, -2.629184, 0.56681999999999999, 0.16392399999999996, 2.6130380000000004, 0.9334279999999997, 0.73517899999999992, -1.158944, 0.060115999999999947, -1.7676609999999999, -0.49218599999999979, -2.330997, -2.8834949999999999]\n",
      "[1.0, -1.0, 1.0, -1.0, 1.0, -1.0, 1.0, -1.0, 1.0, -1.0, 1.0, -1.0, 1.0, -1.0, 1.0, -1.0, 1.0, -1.0, 1.0]\n"
     ]
    },
    {
     "data": {
      "image/png": "[encoded data removed]",
      "text/plain": [
       "<matplotlib.figure.Figure at 0x109ad1860>"
      ]
     },
     "metadata": {},
     "output_type": "display_data"
    }
   ],
   "source": [
    "import pandas as pd\n",
    "import numpy as np\n",
    "import matplotlib.pylab as plt\n",
    "from sklearn.svm import SVC, NuSVC\n",
    "from matplotlib.colors import ListedColormap\n",
    "\n",
    "f_in = 'C://Users//aeroplan//Desktop//svm_pca.out'\n",
    "df = pd.read_csv(f_in, header=None, sep= '\\t', names =['x1','x2', 'y', 'i'])\n",
    "print(df)\n",
    "#plt.scatter(df.x1, df.x2)\n",
    "\n",
    "fig, ax = plt.subplots()\n",
    "ax.scatter(df.x1, df.x2, c=df.y, cmap=plt.cm.Paired)\n",
    "\n",
    "for i, txt in enumerate(df.i):\n",
    "    ax.annotate(txt, (df.x1[i],df.x2[i]))\n",
    "    \n",
    "plt.show()\n",
    "\n",
    "\n",
    "\n",
    "i = 0\n",
    "k = 0\n",
    "x1_diff, x2_diff, y_diff = [],[],[]\n",
    "while( i <len(df.y)-1):\n",
    "    if df.y[i] == df.y[i+1]:\n",
    "        i +=2\n",
    "        continue\n",
    "    \n",
    "    x1_diff.append(df.x1[i]-df.x1[i+1])\n",
    "    x2_diff.append(df.x2[i]-df.x2[i+1])\n",
    "    y_diff.append(np.sign(df.y[i]-df.y[i+1]))\n",
    "   \n",
    "    if(y_diff[-1] != (-1)**k):\n",
    "        y_diff[-1] *= -1\n",
    "        x1_diff[-1] *= -1\n",
    "        x2_diff[-1] *= -1\n",
    "            \n",
    "    i +=2\n",
    "    k+=1\n",
    "\n",
    "print(x1_diff)\n",
    "print(x2_diff)\n",
    "print(y_diff)\n",
    "\n",
    "fig, ax = plt.subplots()\n",
    "ax.scatter(x1_diff, x2_diff, c=y_diff, cmap=plt.cm.Paired)\n",
    "plt.show()\n",
    "\n",
    "x_diff = list()\n",
    "for i in range(len(x1_diff)):\n",
    "    x_diff.append([x1_diff[i], x2_diff[i]])\n",
    "    \n",
    "x_diff = np.reshape(x_diff, (19,2))"
   ]
  },
  {
   "cell_type": "code",
   "execution_count": 23,
   "metadata": {},
   "outputs": [
    {
     "data": {
      "image/png": "[encoded data removed]",
      "text/plain": [
       "<matplotlib.figure.Figure at 0x10a051da0>"
      ]
     },
     "metadata": {},
     "output_type": "display_data"
    },
    {
     "name": "stdout",
     "output_type": "stream",
     "text": [
      "svm.decisoin_function\n",
      "[ 1.13664626]\n",
      "[ 0.04297547]\n",
      "\n",
      "svm coefficient\n",
      "[[ 0.28196516  0.47634411]]\n",
      "\n",
      "matrix multiplication with svm.coef_\n",
      "[ 0.75830927]\n",
      "[-0.33536153]\n"
     ]
    }
   ],
   "source": [
    "# Create a SVC classifier using a linear kernel\n",
    "svm = SVC(kernel='linear')\n",
    "# Train the classifier\n",
    "svm.fit(x_diff, y_diff)\n",
    "\n",
    "# Visualize the decision boundaries\n",
    "plot_decision_regions(x_diff, y_diff, classifier=svm)\n",
    "plt.legend(loc='upper left')\n",
    "plt.tight_layout()\n",
    "plt.show()\n",
    "\n",
    "print('svm.decisoin_function')\n",
    "print(svm.decision_function([[1,1]]))\n",
    "print(svm.decision_function([[0.5,-1]]))\n",
    "print()\n",
    "\n",
    "print('svm coefficient')\n",
    "print(svm.coef_)\n",
    "print()\n",
    "\n",
    "print('matrix multiplication with svm.coef_')\n",
    "print(np.matmul(svm.coef_, [1,1]))\n",
    "print(np.matmul(svm.coef_, [0.5,-1]))\n",
    "\n"
   ]
  },
  {
   "cell_type": "code",
   "execution_count": 28,
   "metadata": {},
   "outputs": [
    {
     "data": {
      "image/png": "[encoded data removed]",
      "text/plain": [
       "<matplotlib.figure.Figure at 0x10a0160b8>"
      ]
     },
     "metadata": {},
     "output_type": "display_data"
    },
    {
     "name": "stdout",
     "output_type": "stream",
     "text": [
      "svm.score\n",
      "input [[1,1]], [1] : 1.0\n",
      "input [[1,1]], [-1] : 0.0\n",
      "input [[0.5,-1]],[1] : 0.0\n",
      "input [[0.5,-1]],[-1] : 1.0\n",
      "\n",
      "svm.decisoin_function\n",
      "input [[1,1]] : [ 0.99980726]\n",
      "input [[0.5,-1]] : [-1.08890852]\n",
      "\n",
      "svm coefficient\n"
     ]
    },
    {
     "ename": "AttributeError",
     "evalue": "coef_ is only available when using a linear kernel",
     "output_type": "error",
     "traceback": [
      "\u001b[1;31m---------------------------------------------------------------------------\u001b[0m",
      "\u001b[1;31mAttributeError\u001b[0m                            Traceback (most recent call last)",
      "\u001b[1;32m<ipython-input-28-07af104f730b>\u001b[0m in \u001b[0;36m<module>\u001b[1;34m()\u001b[0m\n\u001b[0;32m     40\u001b[0m \u001b[0mprint\u001b[0m\u001b[1;33m(\u001b[0m\u001b[1;33m)\u001b[0m\u001b[1;33m\u001b[0m\u001b[0m\n\u001b[0;32m     41\u001b[0m \u001b[0mprint\u001b[0m\u001b[1;33m(\u001b[0m\u001b[1;34m'svm coefficient'\u001b[0m\u001b[1;33m)\u001b[0m\u001b[1;33m\u001b[0m\u001b[0m\n\u001b[1;32m---> 42\u001b[1;33m \u001b[0mprint\u001b[0m\u001b[1;33m(\u001b[0m\u001b[0msvm_rbf\u001b[0m\u001b[1;33m.\u001b[0m\u001b[0mcoef_\u001b[0m\u001b[1;33m)\u001b[0m\u001b[1;33m\u001b[0m\u001b[0m\n\u001b[0m",
      "\u001b[1;32mc:\\plang\\python\\python35\\lib\\site-packages\\sklearn\\svm\\base.py\u001b[0m in \u001b[0;36mcoef_\u001b[1;34m(self)\u001b[0m\n\u001b[0;32m    463\u001b[0m     \u001b[1;32mdef\u001b[0m \u001b[0mcoef_\u001b[0m\u001b[1;33m(\u001b[0m\u001b[0mself\u001b[0m\u001b[1;33m)\u001b[0m\u001b[1;33m:\u001b[0m\u001b[1;33m\u001b[0m\u001b[0m\n\u001b[0;32m    464\u001b[0m         \u001b[1;32mif\u001b[0m \u001b[0mself\u001b[0m\u001b[1;33m.\u001b[0m\u001b[0mkernel\u001b[0m \u001b[1;33m!=\u001b[0m \u001b[1;34m'linear'\u001b[0m\u001b[1;33m:\u001b[0m\u001b[1;33m\u001b[0m\u001b[0m\n\u001b[1;32m--> 465\u001b[1;33m             raise AttributeError('coef_ is only available when using a '\n\u001b[0m\u001b[0;32m    466\u001b[0m                                  'linear kernel')\n\u001b[0;32m    467\u001b[0m \u001b[1;33m\u001b[0m\u001b[0m\n",
      "\u001b[1;31mAttributeError\u001b[0m: coef_ is only available when using a linear kernel"
     ]
    }
   ],
   "source": [
    "# http://scikit-learn.org/stable/modules/generated/sklearn.svm.SVC.html\n",
    "\n",
    "# Create a SVC classifier using an RBF kernel\n",
    "svm_rbf = SVC(kernel='rbf', gamma=1)\n",
    "# Train the classifier\n",
    "svm_rbf.fit(x_diff, y_diff)\n",
    "\n",
    "# Visualize the decision boundaries\n",
    "plot_decision_regions(x_diff, y_diff, classifier=svm_rbf)\n",
    "plt.legend(loc='upper left')\n",
    "plt.tight_layout()\n",
    "plt.show()\n",
    "\n",
    "'''\n",
    "Returns the mean accuracy on the given test data and labels.\n",
    "'''\n",
    "\n",
    "print('svm.score')\n",
    "print('input [[1,1]], [1] : '+str(svm_rbf.score([[1,1]], [1])))\n",
    "print('input [[1,1]], [-1] : '+str(svm_rbf.score([[1,1]], [-1])))\n",
    "\n",
    "print('input [[0.5,-1]],[1] : '+str(svm_rbf.score([[0.5,-1]], [1])))\n",
    "print('input [[0.5,-1]],[-1] : '+str(svm_rbf.score([[0.5,-1]], [-1])))\n",
    "\n",
    "'''\n",
    "Distance of the samples X to the separating hyperplane.\n",
    "'''\n",
    "print()\n",
    "print('svm.decisoin_function')\n",
    "print('input [[1,1]] : '+str(svm_rbf.decision_function([[1,1]])))\n",
    "print('input [[0.5,-1]] : '+str(svm_rbf.decision_function([[0.5,-1]])))\n",
    "\n",
    "'''\n",
    "coef_ : array, shape = [n_class-1, n_features]\n",
    "\n",
    "    Weights assigned to the features (coefficients in the primal problem). This is only available in the case of a linear kernel.\n",
    "\n",
    "    coef_ is a readonly property derived from dual_coef_ and support_vectors_.\n",
    "'''\n",
    "print()\n",
    "print('svm coefficient')\n",
    "print(svm_rbf.coef_)"
   ]
  },
  {
   "cell_type": "code",
   "execution_count": 27,
   "metadata": {},
   "outputs": [
    {
     "data": {
      "image/png": "[encoded data removed]",
      "text/plain": [
       "<matplotlib.figure.Figure at 0x10a0f8d68>"
      ]
     },
     "metadata": {},
     "output_type": "display_data"
    },
    {
     "name": "stdout",
     "output_type": "stream",
     "text": [
      "svm.score\n",
      "input [[1,1]], [1] : 1.0\n",
      "input [[1,1]], [-1] : 0.0\n",
      "\n",
      "svm.decisoin_function\n",
      "input [[1,1]]: [ 0.97137499]\n",
      "input [[0.5,-1]]: [-1.19620583]\n",
      "\n",
      "svm coefficient\n"
     ]
    },
    {
     "ename": "AttributeError",
     "evalue": "coef_ is only available when using a linear kernel",
     "output_type": "error",
     "traceback": [
      "\u001b[1;31m---------------------------------------------------------------------------\u001b[0m",
      "\u001b[1;31mAttributeError\u001b[0m                            Traceback (most recent call last)",
      "\u001b[1;32m<ipython-input-27-50925846d92a>\u001b[0m in \u001b[0;36m<module>\u001b[1;34m()\u001b[0m\n\u001b[0;32m     39\u001b[0m \u001b[0mprint\u001b[0m\u001b[1;33m(\u001b[0m\u001b[1;33m)\u001b[0m\u001b[1;33m\u001b[0m\u001b[0m\n\u001b[0;32m     40\u001b[0m \u001b[0mprint\u001b[0m\u001b[1;33m(\u001b[0m\u001b[1;34m'svm coefficient'\u001b[0m\u001b[1;33m)\u001b[0m\u001b[1;33m\u001b[0m\u001b[0m\n\u001b[1;32m---> 41\u001b[1;33m \u001b[0mprint\u001b[0m\u001b[1;33m(\u001b[0m\u001b[0mnu_svm\u001b[0m\u001b[1;33m.\u001b[0m\u001b[0mcoef_\u001b[0m\u001b[1;33m)\u001b[0m\u001b[1;33m\u001b[0m\u001b[0m\n\u001b[0m",
      "\u001b[1;32mc:\\plang\\python\\python35\\lib\\site-packages\\sklearn\\svm\\base.py\u001b[0m in \u001b[0;36mcoef_\u001b[1;34m(self)\u001b[0m\n\u001b[0;32m    463\u001b[0m     \u001b[1;32mdef\u001b[0m \u001b[0mcoef_\u001b[0m\u001b[1;33m(\u001b[0m\u001b[0mself\u001b[0m\u001b[1;33m)\u001b[0m\u001b[1;33m:\u001b[0m\u001b[1;33m\u001b[0m\u001b[0m\n\u001b[0;32m    464\u001b[0m         \u001b[1;32mif\u001b[0m \u001b[0mself\u001b[0m\u001b[1;33m.\u001b[0m\u001b[0mkernel\u001b[0m \u001b[1;33m!=\u001b[0m \u001b[1;34m'linear'\u001b[0m\u001b[1;33m:\u001b[0m\u001b[1;33m\u001b[0m\u001b[0m\n\u001b[1;32m--> 465\u001b[1;33m             raise AttributeError('coef_ is only available when using a '\n\u001b[0m\u001b[0;32m    466\u001b[0m                                  'linear kernel')\n\u001b[0;32m    467\u001b[0m \u001b[1;33m\u001b[0m\u001b[0m\n",
      "\u001b[1;31mAttributeError\u001b[0m: coef_ is only available when using a linear kernel"
     ]
    }
   ],
   "source": [
    "# http://scikit-learn.org/stable/modules/svm.html#svm-classification\n",
    "# http://scikit-learn.org/stable/modules/generated/sklearn.svm.NuSVC.html#sklearn.svm.NuSVC\n",
    "\n",
    "# Create a SVC classifier using an RBF kernel\n",
    "nu_svm = NuSVC(kernel='rbf', gamma=1)\n",
    "# Train the classifier\n",
    "nu_svm.fit(x_diff, y_diff)\n",
    "\n",
    "# Visualize the decision boundaries\n",
    "plot_decision_regions(x_diff, y_diff, classifier=nu_svm)\n",
    "plt.legend(loc='upper left')\n",
    "plt.tight_layout()\n",
    "plt.show()\n",
    "\n",
    "'''\n",
    "Returns the mean accuracy on the given test data and labels.\n",
    "'''\n",
    "\n",
    "print('svm.score')\n",
    "print('input [[1,1]], [1] : '+str((nu_svm.score([[1,1]], [1]))))\n",
    "print('input [[1,1]], [-1] : '+str(nu_svm.score([[1,1]], [-1])))\n",
    "\n",
    "'''\n",
    "Distance of the samples X to the separating hyperplane.\n",
    "'''\n",
    "print()\n",
    "print('svm.decisoin_function')\n",
    "print('input [[1,1]]: '+str(nu_svm.decision_function([[1,1]])))\n",
    "print('input [[0.5,-1]]: '+str(nu_svm.decision_function([[0.5,-1]])))\n",
    "\n",
    "'''\n",
    "coef_ : array, shape = [n_class-1, n_features]\n",
    "\n",
    "    Weights assigned to the features (coefficients in the primal problem). This is only available in the case of a linear kernel.\n",
    "\n",
    "    coef_ is readonly property derived from dual_coef_ and support_vectors_.\n",
    "\n",
    "'''\n",
    "print()\n",
    "print('svm coefficient')\n",
    "print(nu_svm.coef_)"
   ]
  },
  {
   "cell_type": "code",
   "execution_count": null,
   "metadata": {
    "collapsed": true
   },
   "outputs": [],
   "source": []
  }
 ],
 "metadata": {
  "kernelspec": {
   "display_name": "Python 3",
   "language": "python",
   "name": "python3"
  },
  "language_info": {
   "codemirror_mode": {
    "name": "ipython",
    "version": 3
   },
   "file_extension": ".py",
   "mimetype": "text/x-python",
   "name": "python",
   "nbconvert_exporter": "python",
   "pygments_lexer": "ipython3",
   "version": "3.5.3"
  }
 },
 "nbformat": 4,
 "nbformat_minor": 2
}
